{
 "cells": [
  {
   "cell_type": "code",
   "execution_count": 33,
   "id": "b95f1138-598f-46d6-8c6f-061ab01ba5d4",
   "metadata": {},
   "outputs": [
    {
     "name": "stdout",
     "output_type": "stream",
     "text": [
      "['s', 'u', 'r', 'a', 't']\n",
      "t\n",
      "a\n",
      "r\n",
      "u\n",
      "s\n"
     ]
    }
   ],
   "source": [
    "# generators\n",
    "# usually associated with a generator function\n",
    "# https://medium.com/@colebuildanddevelop/python-generators-versus-iterators-d8e35024a590\n",
    "# https://www.datacamp.com/tutorial/python-iterators-generators-tutorial\n",
    "def reverse_list(items_list):\n",
    "    for index in range(-1, - len(items_list) - 1, -1):\n",
    "        yield items_list[index]\n",
    "\n",
    "\n",
    "items = list('surat')\n",
    "print(items)\n",
    "# iterating through a generator using for loop\n",
    "for item in reverse_list(items):\n",
    "    print(item)"
   ]
  },
  {
   "cell_type": "code",
   "execution_count": 34,
   "id": "9b03d747-d6c7-499a-af8d-064610ba3d8b",
   "metadata": {},
   "outputs": [
    {
     "name": "stdout",
     "output_type": "stream",
     "text": [
      "t\n",
      "a\n",
      "r\n",
      "u\n",
      "s\n",
      "Exhausted the generator\n"
     ]
    }
   ],
   "source": [
    "# iterating through a generator using next\n",
    "gen = reverse_list(items)\n",
    "try:\n",
    "    # x = next(gen)\n",
    "    x = gen.__next__()\n",
    "    while x:\n",
    "        print(x)\n",
    "        # x = next(gen)\n",
    "        x = gen.__next__()\n",
    "except StopIteration:\n",
    "    print('Exhausted the generator')\n"
   ]
  },
  {
   "cell_type": "code",
   "execution_count": 35,
   "id": "e726cddb-bea9-473d-9c6b-5ccbd47ea352",
   "metadata": {},
   "outputs": [
    {
     "name": "stdout",
     "output_type": "stream",
     "text": [
      "s\n",
      "u\n",
      "r\n",
      "a\n",
      "t\n",
      "Exhausted the generator\n"
     ]
    }
   ],
   "source": [
    "# using iterator for a list\n",
    "list_iter = iter(items)\n",
    "try:\n",
    "    x = next(list_iter)\n",
    "    while x:\n",
    "        print(x)\n",
    "        x = next(list_iter)\n",
    "except StopIteration:\n",
    "    print('Exhausted the generator')"
   ]
  },
  {
   "cell_type": "code",
   "execution_count": 37,
   "id": "4e47d16e-2212-459b-924c-7d683c1541a4",
   "metadata": {},
   "outputs": [
    {
     "name": "stdout",
     "output_type": "stream",
     "text": [
      "0\n",
      "1\n",
      "2\n",
      "3\n",
      "4\n",
      "5\n",
      "6\n",
      "7\n",
      "8\n",
      "9\n",
      "10\n",
      "11\n",
      "12\n",
      "13\n",
      "14\n",
      "15\n",
      "16\n",
      "17\n",
      "18\n",
      "19\n",
      "20\n"
     ]
    },
    {
     "ename": "StopIteration",
     "evalue": "",
     "output_type": "error",
     "traceback": [
      "\u001b[0;31m---------------------------------------------------------------------------\u001b[0m",
      "\u001b[0;31mStopIteration\u001b[0m                             Traceback (most recent call last)",
      "Cell \u001b[0;32mIn[37], line 22\u001b[0m\n\u001b[1;32m     19\u001b[0m iter_obj \u001b[38;5;241m=\u001b[39m \u001b[38;5;28miter\u001b[39m(obj)\n\u001b[1;32m     20\u001b[0m \u001b[38;5;28;01mwhile\u001b[39;00m \u001b[38;5;28;01mTrue\u001b[39;00m:\n\u001b[1;32m     21\u001b[0m     \u001b[38;5;66;03m# StopIteration when the exhausted\u001b[39;00m\n\u001b[0;32m---> 22\u001b[0m     \u001b[38;5;28;43mnext\u001b[39;49m\u001b[43m(\u001b[49m\u001b[43miter_obj\u001b[49m\u001b[43m)\u001b[49m\n",
      "Cell \u001b[0;32mIn[37], line 16\u001b[0m, in \u001b[0;36mCount_Upto_n.__next__\u001b[0;34m(self)\u001b[0m\n\u001b[1;32m     13\u001b[0m     \u001b[38;5;28mself\u001b[39m\u001b[38;5;241m.\u001b[39mn \u001b[38;5;241m+\u001b[39m\u001b[38;5;241m=\u001b[39m \u001b[38;5;241m1\u001b[39m\n\u001b[1;32m     14\u001b[0m     \u001b[38;5;66;03m# can return self.n as well\u001b[39;00m\n\u001b[1;32m     15\u001b[0m \u001b[38;5;28;01melse\u001b[39;00m:\n\u001b[0;32m---> 16\u001b[0m     \u001b[38;5;28;01mraise\u001b[39;00m \u001b[38;5;167;01mStopIteration\u001b[39;00m\n",
      "\u001b[0;31mStopIteration\u001b[0m: "
     ]
    }
   ],
   "source": [
    "# Count to n\n",
    "class Count_Upto_n:\n",
    "    def __init__(self, n):\n",
    "        self.max = n\n",
    "        self.n = 0\n",
    "\n",
    "    def __iter__(self):\n",
    "        return self\n",
    "\n",
    "    def __next__(self):\n",
    "        if self.n <= self.max:\n",
    "            print(self.n)\n",
    "            self.n += 1\n",
    "            # can return self.n as well\n",
    "        else:\n",
    "            raise StopIteration\n",
    "\n",
    "obj = Count_Upto_n(20)\n",
    "iter_obj = iter(obj)\n",
    "while True:\n",
    "    # StopIteration when the exhausted\n",
    "    next(iter_obj)"
   ]
  },
  {
   "cell_type": "code",
   "execution_count": 42,
   "id": "76ced10a-278f-4793-8096-f33547864b46",
   "metadata": {},
   "outputs": [
    {
     "name": "stdout",
     "output_type": "stream",
     "text": [
      "1\n",
      "2\n",
      "3\n"
     ]
    }
   ],
   "source": [
    "# Another generator\n",
    "# https://pythongeeks.org/python-generators-vs-iterators/\n",
    "def gener():\n",
    "   # do not think that num will be initialized to 1 again\n",
    "   # generator starts from where it left in one iteration after the yield statement\n",
    "   num = 1\n",
    "   while True:\n",
    "       yield num\n",
    "       num += 1\n",
    "\n",
    "obj = gener()\n",
    "print(next(obj))\n",
    "print(next(obj))\n",
    "print(next(obj))"
   ]
  },
  {
   "cell_type": "code",
   "execution_count": 43,
   "id": "9023eb37-8f1e-4940-999c-3f26db1e4fc9",
   "metadata": {},
   "outputs": [
    {
     "name": "stdout",
     "output_type": "stream",
     "text": [
      "True\n"
     ]
    }
   ],
   "source": [
    "# generators are initialized as functions\n",
    "# iterators need classes to be defined such as tuples, lists, sets, dictionaries, strings\n",
    "# a generator is actually a subclass of iterators\n",
    "from collections.abc import Generator, Iterator\n",
    "print(issubclass(Generator, Iterator))"
   ]
  },
  {
   "cell_type": "code",
   "execution_count": 45,
   "id": "f49722b6-eb5e-42dc-8a14-be249a3cffea",
   "metadata": {},
   "outputs": [
    {
     "name": "stdout",
     "output_type": "stream",
     "text": [
      "4\n",
      "8\n",
      "12\n"
     ]
    }
   ],
   "source": [
    "# Create an iterator using a class that prints the multiples of 4 infinitely.\n",
    "class Multiples:\n",
    "\n",
    "  def __iter__(self):\n",
    "      self.val = 1\n",
    "      return self\n",
    "\n",
    "  def __next__(self):\n",
    "      temp = self.val\n",
    "      self.val += 1\n",
    "      return temp * 4\n",
    "\n",
    "multiples_4 = Multiples()\n",
    "obj = iter(multiples_4)\n",
    "\n",
    "print(next(obj))\n",
    "print(next(obj))\n",
    "print(next(obj))"
   ]
  },
  {
   "cell_type": "code",
   "execution_count": 47,
   "id": "e4b847cf-4bd8-4f87-bdd7-d7c8eee66446",
   "metadata": {},
   "outputs": [
    {
     "name": "stdout",
     "output_type": "stream",
     "text": [
      "0\n",
      "2\n",
      "4\n",
      "6\n",
      "8\n"
     ]
    }
   ],
   "source": [
    "# generator expression\n",
    "n = 10\n",
    "a = (i for i in range(n) if i % 2 == 0)\n",
    "for i in a:\n",
    "    print(i)"
   ]
  },
  {
   "cell_type": "code",
   "execution_count": 54,
   "id": "adad20f7-24e6-4878-8731-e8cd62be437f",
   "metadata": {},
   "outputs": [
    {
     "name": "stdout",
     "output_type": "stream",
     "text": [
      "10.881487570999525\n",
      "0.0007571400001324946\n"
     ]
    }
   ],
   "source": [
    "import timeit\n",
    "print(timeit.timeit('\"-\".join(str(n) for n in range(10000))', number=10000))\n",
    "def yield_num_and_make_it_into_string(n):\n",
    "    final = ''\n",
    "    i = 0\n",
    "    while i < n:\n",
    "        yield i\n",
    "        final += str(i) + '-'\n",
    "        i += 1\n",
    "s = 'yield_num_and_make_it_into_string(10000)'\n",
    "print(timeit.timeit(stmt=s, number=10000, globals=globals()))"
   ]
  },
  {
   "cell_type": "code",
   "execution_count": null,
   "id": "b713448e-bd5c-47d0-aba7-81748371d4e2",
   "metadata": {},
   "outputs": [],
   "source": [
    "# Using magic functions\n",
    "# https://realpython.com/python-magic-methods/\n",
    "# https://www.analyticsvidhya.com/blog/2021/08/explore-the-magic-methods-in-python/\n",
    "class Storage(float):\n",
    "    def __new__(cls, value, unit):\n",
    "        instance = super().__new__(cls, value)\n",
    "        instance.unit = unit\n",
    "        return instance\n",
    "\n",
    "    def __add__(self, other):\n",
    "        if not isinstance(other, type(self)):\n",
    "            raise TypeError(\n",
    "                \"unsupported operand for +: \"\n",
    "                f\"'{type(self).__name__}' and '{type(other).__name__}'\"\n",
    "            )\n",
    "        if not self.unit == other.unit:\n",
    "            raise TypeError(\n",
    "                f\"incompatible units: '{self.unit}' and '{other.unit}'\"\n",
    "            )\n",
    "\n",
    "        return type(self)(super().__add__(other), self.unit)"
   ]
  },
  {
   "cell_type": "code",
   "execution_count": null,
   "id": "ab036499-2298-44dc-b65e-93a65013496e",
   "metadata": {},
   "outputs": [],
   "source": [
    "disk_1 = Storage(500, \"GB\")\n",
    "disk_2 = Storage(1000, \"GB\")\n",
    "disk_1 + disk_2"
   ]
  },
  {
   "cell_type": "code",
   "execution_count": null,
   "id": "9922af8a-4b48-4a74-82f6-4f548747a97f",
   "metadata": {},
   "outputs": [],
   "source": []
  },
  {
   "cell_type": "code",
   "execution_count": null,
   "id": "bd178976-7d05-420d-86c4-f99c5f223170",
   "metadata": {},
   "outputs": [],
   "source": [
    "# when you add two numbers, python internally does the following\n",
    "a = 10\n",
    "b = 5\n",
    "a + b"
   ]
  },
  {
   "cell_type": "code",
   "execution_count": null,
   "id": "1bd8c893-75b1-4543-b7ed-84472f3e23a3",
   "metadata": {},
   "outputs": [],
   "source": [
    "# same is done under the hood\n",
    "a = 10\n",
    "b = 5\n",
    "a.__add__(b)"
   ]
  },
  {
   "cell_type": "code",
   "execution_count": null,
   "id": "266197bc-a472-4143-aa4a-6bb7c45c9239",
   "metadata": {},
   "outputs": [],
   "source": []
  }
 ],
 "metadata": {
  "kernelspec": {
   "display_name": "Python 3 (ipykernel)",
   "language": "python",
   "name": "python3"
  },
  "language_info": {
   "codemirror_mode": {
    "name": "ipython",
    "version": 3
   },
   "file_extension": ".py",
   "mimetype": "text/x-python",
   "name": "python",
   "nbconvert_exporter": "python",
   "pygments_lexer": "ipython3",
   "version": "3.12.9"
  }
 },
 "nbformat": 4,
 "nbformat_minor": 5
}
